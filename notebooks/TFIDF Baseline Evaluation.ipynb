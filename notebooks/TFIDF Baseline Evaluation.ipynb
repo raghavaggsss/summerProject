{
 "cells": [
  {
   "cell_type": "code",
   "execution_count": 1,
   "metadata": {
    "collapsed": false
   },
   "outputs": [],
   "source": [
    "import pandas as pd\n",
    "import numpy as np\n",
    "from sklearn.feature_extraction.text import TfidfVectorizer\n",
    "from sklearn.feature_extraction.text import TfidfTransformer"
   ]
  },
  {
   "cell_type": "code",
   "execution_count": 2,
   "metadata": {
    "collapsed": false
   },
   "outputs": [],
   "source": [
    "# Load Data\n",
    "train_df = pd.read_csv(\"../data/train.csv\")\n",
    "test_df = pd.read_csv(\"../data/test.csv\")\n",
    "# validation_df = pd.read_csv(\"../data/valid.csv\")\n",
    "y_test = np.zeros(len(test_df))"
   ]
  },
  {
   "cell_type": "code",
   "execution_count": 3,
   "metadata": {
    "collapsed": false
   },
   "outputs": [],
   "source": [
    "def evaluate_recall(y, y_test, k=1):\n",
    "    num_examples = float(len(y))\n",
    "    num_correct = 0\n",
    "    for predictions, label in zip(y, y_test):\n",
    "        if label in predictions[:k]:\n",
    "            num_correct += 1\n",
    "    return num_correct/num_examples"
   ]
  },
  {
   "cell_type": "code",
   "execution_count": 4,
   "metadata": {
    "collapsed": true
   },
   "outputs": [],
   "source": [
    "def predict_random(context, utterances):\n",
    "    return np.random.choice(len(utterances), 10, replace=False)"
   ]
  },
  {
   "cell_type": "code",
   "execution_count": 5,
   "metadata": {
    "collapsed": false
   },
   "outputs": [
    {
     "name": "stdout",
     "output_type": "stream",
     "text": [
      "Recall @ (1, 10): 0.10111\n",
      "Recall @ (2, 10): 0.198256\n",
      "Recall @ (5, 10): 0.500317\n",
      "Recall @ (10, 10): 1\n"
     ]
    }
   ],
   "source": [
    "# Evaluate Random predictor\n",
    "y_random = [predict_random(test_df.Context[x], test_df.iloc[x,1:].values) for x in range(len(test_df))]\n",
    "for n in [1, 2, 5, 10]:\n",
    "    print(\"Recall @ ({}, 10): {:g}\".format(n, evaluate_recall(y_random, y_test, n)))"
   ]
  },
  {
   "cell_type": "code",
   "execution_count": 6,
   "metadata": {
    "collapsed": false
   },
   "outputs": [],
   "source": [
    "class TFIDFPredictor:\n",
    "    def __init__(self):\n",
    "        self.vectorizer = TfidfVectorizer()\n",
    "\n",
    "    def train(self, data):\n",
    "        self.vectorizer.fit(np.append(data.Context.values,data.Utterance.values))\n",
    "\n",
    "    def predict(self, context, utterances):\n",
    "        # Convert context and utterances into tfidf vector\n",
    "        vector_context = self.vectorizer.transform([context])\n",
    "        vector_doc = self.vectorizer.transform(utterances)\n",
    "        # The dot product measures the similarity of the resulting vectors\n",
    "        result = np.dot(vector_doc, vector_context.T).todense()\n",
    "        result = np.asarray(result).flatten()\n",
    "        # Sort by top results and return the indices in descending order\n",
    "        return np.argsort(result, axis=0)[::-1]"
   ]
  },
  {
   "cell_type": "code",
   "execution_count": 7,
   "metadata": {
    "collapsed": false
   },
   "outputs": [],
   "source": [
    "# Evaluate TFIDF predictor\n",
    "pred = TFIDFPredictor()\n",
    "pred.train(train_df)\n",
    "# y = [pred.predict(test_df.Context[x], test_df.iloc[x,1:].values) for x in range(len(test_df))]\n",
    "#for n in [1, 2, 5, 10]:\n",
    "#    print(\"Recall @ ({}, 10): {:g}\".format(n, evaluate_recall(y, y_test, n)))"
   ]
  },
  {
   "cell_type": "code",
   "execution_count": 8,
   "metadata": {
    "collapsed": false
   },
   "outputs": [],
   "source": [
    "# y = [pred.predict(test_df.Context[0], test_df.iloc[0,1:].values)]\n",
    "y = [pred.predict(test_df.Context[x], test_df.iloc[x,1:].values) for x in range(len(test_df))]"
   ]
  },
  {
   "cell_type": "code",
   "execution_count": 9,
   "metadata": {
    "collapsed": false
   },
   "outputs": [
    {
     "name": "stdout",
     "output_type": "stream",
     "text": [
      "Ground Truth Utterance                                 nice thank ! __eou__\n",
      "Distractor_0              wrong channel for it , but check efnet.org , u...\n",
      "Distractor_1              everi time the kernel chang , you will lose vi...\n",
      "Distractor_2                                                     ok __eou__\n",
      "Distractor_3              ! nomodeset > acer __eou__ i 'm assum it be a ...\n",
      "Distractor_4              http : //www.ubuntu.com/project/about-ubuntu/d...\n",
      "Distractor_5              thx __eou__ unfortun the program be n't instal...\n",
      "Distractor_6              how can i check ? by do a recoveri for test ? ...\n",
      "Distractor_7                                        my humbl apolog __eou__\n",
      "Distractor_8                                        # ubuntu-offtop __eou__\n",
      "Name: 0, dtype: object\n"
     ]
    }
   ],
   "source": [
    "print (test_df.iloc[0,1:])"
   ]
  },
  {
   "cell_type": "code",
   "execution_count": 11,
   "metadata": {
    "collapsed": false
   },
   "outputs": [
    {
     "name": "stdout",
     "output_type": "stream",
     "text": [
      "----------------------------------------------------------------\n",
      "[context] anyon know whi my stock oneir export env var usernam ' ? i mean what be that use for ? i know of $ user but not $ usernam . my precis instal doe n't export usernam __eou__ __eot__ look like it use to be export by lightdm , but the line have the comment `` // fixm : be this requir ? '' so i guess it be n't surpris it be go __eou__ __eot__ thank ! how the heck do you figur that out ? __eou__ __eot__ https : //bugs.launchpad.net/lightdm/+bug/864109/comments/3 __eou__ __eot__\n",
      "\n",
      "[anwer] thx __eou__ unfortun the program be n't instal from the repositori __eou__\n",
      "----------------------------------------------------------------\n",
      "[context] i set up my hd such that i have to type a passphras to access it at boot . how can i remov that passwrd , and just boot up normal . i do this at instal , it work fine , just tire of have reboot where i need to be at termin to type passwd in . help ? __eou__ __eot__ backup your data , and re-instal without encrypt `` might '' be the easiest method __eou__ __eot__\n",
      "\n",
      "[anwer] not the case , lts be everi other .04 releas . the .04 be n't alway more stabl __eou__ i would reinstal with precis __eou__ you can restor user data and such from backup __eou__\n",
      "----------------------------------------------------------------\n",
      "[context] im tri to use ubuntu on my macbook pro retina __eou__ i read in the forum that ubuntu have a appl version now ? __eou__ __eot__ not that ive ever hear of.. normal ubutnu should work on an intel base mac . there be the ppc version also . __eou__ you want total control ? or what be you want exact ? __eou__ __eot__\n",
      "\n",
      "[anwer] if you re onli go to run ubuntu , just get a normal pc rather than a mac __eou__ that say , i 'm run it on a macbook , becaus i get one relat cheapli __eou__\n",
      "----------------------------------------------------------------\n",
      "[context] no suggest ? __eou__ link ? __eou__ __eot__ plrase restat your question __eou__ sorri i have no idea what that be __eou__ you can disabl luk password prompt at boot by ad `` rd_no_luk '' kernel flag to grub.conf __eou__ __eot__ yah ! ! where , grub.cfg ? syntax pleas . thank __eou__ what the syntax for rd_no_luk ? where to put in grub file __eou__ __eot__\n",
      "\n",
      "[anwer] it doe n't say __eou__ can you reformat the disk ? __eou__\n",
      "----------------------------------------------------------------\n",
      "[context] even all . need some help with java and chrome . i keep get the error that chrome could not load icedtea-web plugin __eou__ __eot__ which releas be you use ? __eou__ and what be the context of when the error occur ? particular page or just alway ? __eou__ __eot__ ubuntu 12.04 and icedtea 7 plugin . i think i may have just find that a lot of peopl be have the same problem __eou__ as of late , ani page that requir a java plugin . work fine in firefox , seem to be isol to chrome , i cant even run the test page that check to see if you have java __eou__ __eot__\n",
      "\n",
      "[anwer] ah lame . i have not have an issu with my version . although i think i be run an unstabl chrome ... .. check my detail __eou__ ah nope , im run stabl come . and ice tea 6 . so i guess you could tri switch down a version . 7 might just suck __eou__\n"
     ]
    }
   ],
   "source": [
    "for n in [0,1, 2, 5, 10]:\n",
    "    #print(\"Recall @ ({}, 10): {:g}\".format(n, evaluate_recall(y, y_test, n)))\n",
    "    print (\"----------------------------------------------------------------\")\n",
    "    print (\"[context]\",test_df.Context[n])\n",
    "    print ()\n",
    "    print (\"[anwer]\",test_df.iloc[n,1:].values[y[n][0]])"
   ]
  },
  {
   "cell_type": "code",
   "execution_count": null,
   "metadata": {
    "collapsed": true
   },
   "outputs": [],
   "source": []
  }
 ],
 "metadata": {
  "kernelspec": {
   "display_name": "Python 3",
   "language": "python",
   "name": "python3"
  },
  "language_info": {
   "codemirror_mode": {
    "name": "ipython",
    "version": 3
   },
   "file_extension": ".py",
   "mimetype": "text/x-python",
   "name": "python",
   "nbconvert_exporter": "python",
   "pygments_lexer": "ipython3",
   "version": "3.5.2"
  }
 },
 "nbformat": 4,
 "nbformat_minor": 0
}
